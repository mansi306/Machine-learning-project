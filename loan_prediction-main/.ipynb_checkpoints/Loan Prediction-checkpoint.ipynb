{
 "cells": [
  {
   "cell_type": "markdown",
   "metadata": {},
   "source": [
    "## Loan Prediction"
   ]
  },
  {
   "cell_type": "markdown",
   "metadata": {},
   "source": [
    "### Steps to solve machine learning projects\n",
    "1. start\n",
    "2. data selection\n",
    "3. data description : A story of data is all abot and the features present in the data\n",
    "4. performing both statistical and graphical data analysis\n",
    "5. data tranformation and derivation of new attributes , if necessary\n",
    "6. selection of machine learning algorithms based on the patterns observed in EDA\n",
    "7. data standardization and normalization\n",
    "8. creation of train and test data sets\n",
    "9. model training using machine learning algorithms\n",
    "10. calculation of model accuracy : both training and testing accuracy\n",
    "11. hyper parameter tuning to achieve a better accuracy \n",
    "12. saving the created model file \n",
    "13. Deployement strategies for model\n",
    "14. production deployment and testing\n"
   ]
  },
  {
   "cell_type": "code",
   "execution_count": null,
   "metadata": {},
   "outputs": [],
   "source": [
    "# importing libraries\n",
    "import pandas as pd\n",
    "import numpy as np\n",
    "import matplotlib.pyplot as plt\n",
    "%matplotlib inline\n"
   ]
  },
  {
   "cell_type": "code",
   "execution_count": null,
   "metadata": {},
   "outputs": [],
   "source": [
    "df = pd.read_csv(\"train.csv\")\n",
    "df.head()"
   ]
  },
  {
   "cell_type": "code",
   "execution_count": null,
   "metadata": {},
   "outputs": [],
   "source": [
    "df.tail()"
   ]
  },
  {
   "cell_type": "code",
   "execution_count": null,
   "metadata": {},
   "outputs": [],
   "source": [
    "df.shape"
   ]
  },
  {
   "cell_type": "code",
   "execution_count": null,
   "metadata": {},
   "outputs": [],
   "source": [
    "df.info()"
   ]
  },
  {
   "cell_type": "code",
   "execution_count": null,
   "metadata": {},
   "outputs": [],
   "source": [
    "df.isnull().sum()"
   ]
  },
  {
   "cell_type": "code",
   "execution_count": null,
   "metadata": {},
   "outputs": [],
   "source": [
    "df.describe()   #bydefault interger column"
   ]
  },
  {
   "cell_type": "code",
   "execution_count": null,
   "metadata": {},
   "outputs": [],
   "source": [
    "df['ApplicantIncome']"
   ]
  },
  {
   "cell_type": "code",
   "execution_count": null,
   "metadata": {},
   "outputs": [],
   "source": [
    "df[['ApplicantIncome', 'LoanAmount']]"
   ]
  },
  {
   "cell_type": "code",
   "execution_count": null,
   "metadata": {},
   "outputs": [],
   "source": [
    "df.columns"
   ]
  },
  {
   "cell_type": "markdown",
   "metadata": {},
   "source": [
    "## data preprocessing"
   ]
  },
  {
   "cell_type": "code",
   "execution_count": null,
   "metadata": {},
   "outputs": [],
   "source": [
    "df.isnull().sum()"
   ]
  },
  {
   "cell_type": "code",
   "execution_count": null,
   "metadata": {},
   "outputs": [],
   "source": [
    "df.info()"
   ]
  },
  {
   "cell_type": "code",
   "execution_count": null,
   "metadata": {},
   "outputs": [],
   "source": [
    "# handle numerical missing data\n",
    "df['LoanAmount'] = df['LoanAmount'].fillna(df['LoanAmount'].mean())\n",
    "df['Loan_Amount_Term'] = df['Loan_Amount_Term'].fillna(df['Loan_Amount_Term'].mean())\n",
    "df['Credit_History'] = df['Credit_History'].fillna(df['Credit_History'].mean())"
   ]
  },
  {
   "cell_type": "code",
   "execution_count": null,
   "metadata": {},
   "outputs": [],
   "source": [
    "df.isnull().sum()"
   ]
  },
  {
   "cell_type": "code",
   "execution_count": null,
   "metadata": {},
   "outputs": [],
   "source": [
    "# handle categorical missing data\n",
    "df['Gender'].mode()[0]"
   ]
  },
  {
   "cell_type": "code",
   "execution_count": null,
   "metadata": {},
   "outputs": [],
   "source": [
    "df['Gender'] = df['Gender'].fillna(df['Gender'].mode()[0])\n",
    "df['Married'] = df['Married'].fillna(df['Married'].mode()[0])\n",
    "df['Dependents'] = df['Dependents'].fillna(df['Dependents'].mode()[0])\n",
    "df['Self_Employed'] = df['Self_Employed'].fillna(df['Self_Employed'].mode()[0])"
   ]
  },
  {
   "cell_type": "code",
   "execution_count": null,
   "metadata": {},
   "outputs": [],
   "source": [
    "df.isnull().sum()"
   ]
  },
  {
   "cell_type": "markdown",
   "metadata": {},
   "source": [
    "## Exloratory data anlysis"
   ]
  },
  {
   "cell_type": "code",
   "execution_count": null,
   "metadata": {},
   "outputs": [],
   "source": [
    "# !pip install seaborn"
   ]
  },
  {
   "cell_type": "code",
   "execution_count": null,
   "metadata": {},
   "outputs": [],
   "source": [
    "# categorical data\n",
    "import seaborn as sns\n",
    "sns.countplot(df['Gender'])"
   ]
  },
  {
   "cell_type": "code",
   "execution_count": null,
   "metadata": {},
   "outputs": [],
   "source": [
    "sns.countplot(df.Dependents)"
   ]
  },
  {
   "cell_type": "code",
   "execution_count": null,
   "metadata": {},
   "outputs": [],
   "source": [
    "sns.countplot(df.Married)"
   ]
  },
  {
   "cell_type": "code",
   "execution_count": null,
   "metadata": {},
   "outputs": [],
   "source": [
    "df.columns"
   ]
  },
  {
   "cell_type": "code",
   "execution_count": null,
   "metadata": {},
   "outputs": [],
   "source": [
    "# numerical data\n",
    "sns.distplot(df.CoapplicantIncome)"
   ]
  },
  {
   "cell_type": "code",
   "execution_count": null,
   "metadata": {},
   "outputs": [],
   "source": [
    "sns.distplot(df.LoanAmount)"
   ]
  },
  {
   "cell_type": "code",
   "execution_count": null,
   "metadata": {},
   "outputs": [],
   "source": [
    "sns.distplot(df.Credit_History)"
   ]
  },
  {
   "cell_type": "code",
   "execution_count": null,
   "metadata": {},
   "outputs": [],
   "source": [
    "df.head()"
   ]
  },
  {
   "cell_type": "code",
   "execution_count": null,
   "metadata": {},
   "outputs": [],
   "source": [
    "# created new column"
   ]
  },
  {
   "cell_type": "code",
   "execution_count": null,
   "metadata": {},
   "outputs": [],
   "source": [
    "df['Total_income'] = df['ApplicantIncome']+df['CoapplicantIncome']"
   ]
  },
  {
   "cell_type": "code",
   "execution_count": null,
   "metadata": {},
   "outputs": [],
   "source": [
    "df.head()"
   ]
  },
  {
   "cell_type": "code",
   "execution_count": null,
   "metadata": {},
   "outputs": [],
   "source": [
    "# data transformation"
   ]
  },
  {
   "cell_type": "code",
   "execution_count": null,
   "metadata": {},
   "outputs": [],
   "source": [
    "df['ApplicantIncomeLog'] = np.log(df['ApplicantIncome'])"
   ]
  },
  {
   "cell_type": "code",
   "execution_count": null,
   "metadata": {},
   "outputs": [],
   "source": [
    "sns.distplot(df.ApplicantIncomeLog)"
   ]
  },
  {
   "cell_type": "code",
   "execution_count": null,
   "metadata": {},
   "outputs": [],
   "source": [
    "df['CoapplicantIncomeLog'] = np.log(df['CoapplicantIncome'])\n",
    "sns.distplot(df[\"ApplicantIncomeLog\"])"
   ]
  },
  {
   "cell_type": "code",
   "execution_count": null,
   "metadata": {},
   "outputs": [],
   "source": [
    "df['LoanAmountLog'] = np.log(df['LoanAmount'])\n",
    "sns.distplot(df[\"LoanAmountLog\"])"
   ]
  },
  {
   "cell_type": "code",
   "execution_count": null,
   "metadata": {},
   "outputs": [],
   "source": [
    "df['Loan_Amount_Term_Log'] = np.log(df['Loan_Amount_Term'])\n",
    "sns.distplot(df[\"Loan_Amount_Term_Log\"])"
   ]
  },
  {
   "cell_type": "code",
   "execution_count": null,
   "metadata": {},
   "outputs": [],
   "source": [
    "df['Total_Income_Log'] = np.log(df['Total_income'])\n",
    "sns.distplot(df[\"Total_Income_Log\"])"
   ]
  },
  {
   "cell_type": "code",
   "execution_count": null,
   "metadata": {},
   "outputs": [],
   "source": [
    "df.head()"
   ]
  },
  {
   "cell_type": "code",
   "execution_count": null,
   "metadata": {},
   "outputs": [],
   "source": [
    "cols = ['ApplicantIncome', 'CoapplicantIncome', \"LoanAmount\", \"Loan_Amount_Term\", \"Total_income\", 'Loan_ID', 'CoapplicantIncomeLog']\n",
    "df = df.drop(columns=cols, axis=1)"
   ]
  },
  {
   "cell_type": "code",
   "execution_count": null,
   "metadata": {
    "scrolled": true
   },
   "outputs": [],
   "source": [
    "df.head()"
   ]
  },
  {
   "cell_type": "code",
   "execution_count": null,
   "metadata": {},
   "outputs": [],
   "source": [
    "df.Loan_Status.value_counts()"
   ]
  },
  {
   "cell_type": "code",
   "execution_count": null,
   "metadata": {},
   "outputs": [],
   "source": [
    "df.info()"
   ]
  },
  {
   "cell_type": "code",
   "execution_count": null,
   "metadata": {},
   "outputs": [],
   "source": [
    "df.Education.value_counts()"
   ]
  },
  {
   "cell_type": "markdown",
   "metadata": {},
   "source": [
    "### handling categorical data"
   ]
  },
  {
   "cell_type": "code",
   "execution_count": null,
   "metadata": {},
   "outputs": [],
   "source": [
    "df.info()"
   ]
  },
  {
   "cell_type": "code",
   "execution_count": null,
   "metadata": {},
   "outputs": [],
   "source": [
    "df.head()"
   ]
  },
  {
   "cell_type": "code",
   "execution_count": null,
   "metadata": {},
   "outputs": [],
   "source": []
  },
  {
   "cell_type": "code",
   "execution_count": null,
   "metadata": {},
   "outputs": [],
   "source": [
    "d1 = pd.get_dummies(df['Gender'], drop_first= True)\n",
    "d2 = pd.get_dummies(df['Married'], drop_first= True)\n",
    "d3 = pd.get_dummies(df['Dependents'], drop_first= True)\n",
    "d4 = pd.get_dummies(df['Education'], drop_first= True)\n",
    "d5 = pd.get_dummies(df['Self_Employed'], drop_first= True)\n",
    "d6 = pd.get_dummies(df['Property_Area'], drop_first= True)\n",
    "d7 = pd.get_dummies(df['Loan_Status'], drop_first= True)\n",
    "\n",
    "\n",
    "df1 = pd.concat([df, d1, d2, d3, d4, d5, d6, d7], axis = 1)\n",
    "df=df1\n",
    "\n",
    "cols = ['Gender', 'Married', \"Dependents\", \"Education\", \"Self_Employed\", 'Property_Area', 'Loan_Status']\n",
    "df = df.drop(columns=cols, axis=1)"
   ]
  },
  {
   "cell_type": "code",
   "execution_count": null,
   "metadata": {},
   "outputs": [],
   "source": [
    "# cols = ['Gender',\"Married\",\"Education\",'Self_Employed',\"Property_Area\",\"Loan_Status\",\"Dependents\"]\n",
    "# for col in cols:\n",
    "#     df[col] = pd.get_dummies(df[col], drop_first= True)"
   ]
  },
  {
   "cell_type": "code",
   "execution_count": null,
   "metadata": {},
   "outputs": [],
   "source": [
    "df.head()"
   ]
  },
  {
   "cell_type": "code",
   "execution_count": null,
   "metadata": {},
   "outputs": [],
   "source": []
  },
  {
   "cell_type": "code",
   "execution_count": null,
   "metadata": {},
   "outputs": [],
   "source": [
    "df.info()"
   ]
  },
  {
   "cell_type": "code",
   "execution_count": null,
   "metadata": {},
   "outputs": [],
   "source": [
    "df.describe()"
   ]
  },
  {
   "cell_type": "code",
   "execution_count": null,
   "metadata": {},
   "outputs": [],
   "source": [
    "# test datasets"
   ]
  },
  {
   "cell_type": "code",
   "execution_count": null,
   "metadata": {},
   "outputs": [],
   "source": [
    "test = pd.read_csv(\"test.csv\")\n",
    "# filling numerical missing data\n",
    "test['LoanAmount']=test['LoanAmount'].fillna(test['LoanAmount'].mean())\n",
    "test['Loan_Amount_Term']=test['Loan_Amount_Term'].fillna(test['Loan_Amount_Term'].mean())\n",
    "test['Credit_History']=test['Credit_History'].fillna(test['Credit_History'].mean())\n",
    "\n",
    "# filling categorical missing data\n",
    "test['Gender']=test['Gender'].fillna(test['Gender'].mode()[0])\n",
    "test['Married']=test['Married'].fillna(test['Married'].mode()[0])\n",
    "test['Dependents']=test['Dependents'].fillna(test['Dependents'].mode()[0])\n",
    "test['Self_Employed']=test['Self_Employed'].fillna(test['Self_Employed'].mode()[0])\n",
    "\n",
    "test['Total_income'] = test['ApplicantIncome']+test['CoapplicantIncome']\n",
    "\n",
    "# apply log transformation to the attribute\n",
    "test['ApplicantIncomeLog'] = np.log(test['ApplicantIncome'])\n",
    "\n",
    "test['CoapplicantIncomeLog'] = np.log(test['CoapplicantIncome'])\n",
    "\n",
    "test['LoanAmountLog'] = np.log(test['LoanAmount'])\n",
    "\n",
    "test['Loan_Amount_Term_Log'] = np.log(test['Loan_Amount_Term'])\n",
    "\n",
    "test['Total_Income_Log'] = np.log(test['Total_income'])\n",
    "\n",
    "cols = ['ApplicantIncome', 'CoapplicantIncome', \"LoanAmount\", \"Loan_Amount_Term\", \"Total_income\", 'Loan_ID', 'CoapplicantIncomeLog']\n",
    "test = test.drop(columns=cols, axis=1)\n",
    "\n",
    "t1 = pd.get_dummies(test['Gender'], drop_first= True)\n",
    "t2 = pd.get_dummies(test['Married'], drop_first= True)\n",
    "t3 = pd.get_dummies(test['Dependents'], drop_first= True)\n",
    "t4 = pd.get_dummies(test['Education'], drop_first= True)\n",
    "t5 = pd.get_dummies(test['Self_Employed'], drop_first= True)\n",
    "t6 = pd.get_dummies(test['Property_Area'], drop_first= True)\n",
    "\n",
    "\n",
    "\n",
    "df1 = pd.concat([test, t1, t2, t3, t4, t5, t6], axis = 1)\n",
    "test=df1\n",
    "\n",
    "cols = ['Gender', 'Married', \"Dependents\", \"Education\", \"Self_Employed\", 'Property_Area']\n",
    "test = test.drop(columns=cols, axis=1)\n"
   ]
  },
  {
   "cell_type": "code",
   "execution_count": null,
   "metadata": {},
   "outputs": [],
   "source": [
    "test.head()"
   ]
  },
  {
   "cell_type": "markdown",
   "metadata": {},
   "source": [
    "### split datasets"
   ]
  },
  {
   "cell_type": "code",
   "execution_count": null,
   "metadata": {},
   "outputs": [],
   "source": [
    "# specify input and output attributes\n",
    "x = df.drop(columns=['Loan_Status'], axis=1)\n",
    "y = df['Loan_Status']"
   ]
  },
  {
   "cell_type": "code",
   "execution_count": null,
   "metadata": {},
   "outputs": [],
   "source": [
    "x"
   ]
  },
  {
   "cell_type": "code",
   "execution_count": null,
   "metadata": {},
   "outputs": [],
   "source": [
    "y"
   ]
  },
  {
   "cell_type": "code",
   "execution_count": null,
   "metadata": {},
   "outputs": [],
   "source": [
    "from sklearn.model_selection import train_test_split\n",
    "x_train, x_test, y_train, y_test = train_test_split(x, y, test_size=0.25, random_state=42)"
   ]
  },
  {
   "cell_type": "code",
   "execution_count": null,
   "metadata": {},
   "outputs": [],
   "source": [
    "x_train.head()"
   ]
  },
  {
   "cell_type": "code",
   "execution_count": null,
   "metadata": {},
   "outputs": [],
   "source": [
    "y_test.head()"
   ]
  },
  {
   "cell_type": "code",
   "execution_count": null,
   "metadata": {},
   "outputs": [],
   "source": [
    "# model training"
   ]
  },
  {
   "cell_type": "code",
   "execution_count": null,
   "metadata": {},
   "outputs": [],
   "source": [
    "# randomforest classifier\n",
    "from sklearn.ensemble import RandomForestClassifier\n",
    "model = RandomForestClassifier()\n",
    "\n",
    "model.fit(x_train, y_train)"
   ]
  },
  {
   "cell_type": "code",
   "execution_count": null,
   "metadata": {},
   "outputs": [],
   "source": [
    "print(\"Accuracy is\", model.score(x_test, y_test)*100)"
   ]
  },
  {
   "cell_type": "code",
   "execution_count": null,
   "metadata": {},
   "outputs": [],
   "source": [
    "# decision tree classifier\n",
    "from sklearn.tree import DecisionTreeClassifier\n",
    "model2 = DecisionTreeClassifier()\n",
    "model2.fit(x_train, y_train)\n",
    "print(\"Accuracy is\", model2.score(x_test, y_test)*100)"
   ]
  },
  {
   "cell_type": "code",
   "execution_count": null,
   "metadata": {},
   "outputs": [],
   "source": [
    "# logistic regression\n",
    "from sklearn.linear_model import LogisticRegression\n",
    "model3 = LogisticRegression()\n",
    "model3.fit(x_train, y_train)\n",
    "print(\"Accuracy is\", model3.score(x_test, y_test)*100)"
   ]
  },
  {
   "cell_type": "code",
   "execution_count": null,
   "metadata": {},
   "outputs": [],
   "source": [
    "# confusion matrics"
   ]
  },
  {
   "cell_type": "code",
   "execution_count": null,
   "metadata": {},
   "outputs": [],
   "source": [
    "# random forest classifier\n",
    "from sklearn.metrics import confusion_matrix\n",
    "y_pred = model.predict(x_test)\n",
    "cm = confusion_matrix(y_test, y_pred)\n",
    "cm"
   ]
  },
  {
   "cell_type": "code",
   "execution_count": null,
   "metadata": {},
   "outputs": [],
   "source": [
    "# model save"
   ]
  },
  {
   "cell_type": "code",
   "execution_count": null,
   "metadata": {},
   "outputs": [],
   "source": [
    "import pickle\n",
    "file=open(\"model.pkl\", 'wb')\n",
    "pickle.dump(model, file)"
   ]
  },
  {
   "cell_type": "code",
   "execution_count": null,
   "metadata": {},
   "outputs": [],
   "source": []
  }
 ],
 "metadata": {
  "kernelspec": {
   "display_name": "Python 3",
   "language": "python",
   "name": "python3"
  },
  "language_info": {
   "codemirror_mode": {
    "name": "ipython",
    "version": 3
   },
   "file_extension": ".py",
   "mimetype": "text/x-python",
   "name": "python",
   "nbconvert_exporter": "python",
   "pygments_lexer": "ipython3",
   "version": "3.11.9"
  }
 },
 "nbformat": 4,
 "nbformat_minor": 4
}
